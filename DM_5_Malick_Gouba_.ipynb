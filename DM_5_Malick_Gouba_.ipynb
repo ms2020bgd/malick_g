{
 "cells": [
  {
   "cell_type": "code",
   "execution_count": 18,
   "metadata": {},
   "outputs": [
    {
     "name": "stdout",
     "output_type": "stream",
     "text": [
      "Populating the interactive namespace from numpy and matplotlib\n"
     ]
    }
   ],
   "source": [
    "import pandas as pd\n",
    "import warnings\n",
    "import seaborn as sns\n",
    "from matplotlib.collections import PatchCollection\n",
    "from matplotlib.colors import Normalize\n",
    "import matplotlib.pyplot as plt\n",
    "import pandas as pd\n",
    "import numpy as np\n",
    "from numpy import array\n",
    "from numpy import argmax\n",
    "warnings.simplefilter('ignore')"
   ]
  },
  {
   "cell_type": "code",
   "execution_count": 19,
   "metadata": {},
   "outputs": [],
   "source": [
    "df = pd.read_excel('density.xlsx')\n",
    "df1 = pd.read_excel('data_medecins.xlsx')"
   ]
  },
  {
   "cell_type": "code",
   "execution_count": 20,
   "metadata": {},
   "outputs": [
    {
     "data": {
      "text/html": [
       "<div>\n",
       "<style scoped>\n",
       "    .dataframe tbody tr th:only-of-type {\n",
       "        vertical-align: middle;\n",
       "    }\n",
       "\n",
       "    .dataframe tbody tr th {\n",
       "        vertical-align: top;\n",
       "    }\n",
       "\n",
       "    .dataframe thead th {\n",
       "        text-align: right;\n",
       "    }\n",
       "</style>\n",
       "<table border=\"1\" class=\"dataframe\">\n",
       "  <thead>\n",
       "    <tr style=\"text-align: right;\">\n",
       "      <th></th>\n",
       "      <th>Généralistes et compétences MEP</th>\n",
       "      <th>REGION INSEE</th>\n",
       "      <th>EFFECTIF</th>\n",
       "      <th>POPULATION FRANCAISE</th>\n",
       "      <th>DENSITE /100 000 hab.</th>\n",
       "      <th>Unnamed: 5</th>\n",
       "      <th>Unnamed: 6</th>\n",
       "    </tr>\n",
       "  </thead>\n",
       "  <tbody>\n",
       "    <tr>\n",
       "      <th>0</th>\n",
       "      <td>01- Médecine générale</td>\n",
       "      <td>11- Ile-de-France</td>\n",
       "      <td>7503</td>\n",
       "      <td>1.224610e+07</td>\n",
       "      <td>61.268489</td>\n",
       "      <td>NaN</td>\n",
       "      <td>0.000613</td>\n",
       "    </tr>\n",
       "    <tr>\n",
       "      <th>1</th>\n",
       "      <td>01- Médecine générale</td>\n",
       "      <td>24- Centre-Val-de-Loire</td>\n",
       "      <td>1741</td>\n",
       "      <td>2.582500e+06</td>\n",
       "      <td>67.415299</td>\n",
       "      <td>NaN</td>\n",
       "      <td>NaN</td>\n",
       "    </tr>\n",
       "  </tbody>\n",
       "</table>\n",
       "</div>"
      ],
      "text/plain": [
       "  Généralistes et compétences MEP             REGION INSEE  EFFECTIF  \\\n",
       "0           01- Médecine générale        11- Ile-de-France      7503   \n",
       "1           01- Médecine générale  24- Centre-Val-de-Loire      1741   \n",
       "\n",
       "   POPULATION FRANCAISE  DENSITE /100 000 hab.  Unnamed: 5  Unnamed: 6  \n",
       "0          1.224610e+07              61.268489         NaN    0.000613  \n",
       "1          2.582500e+06              67.415299         NaN         NaN  "
      ]
     },
     "execution_count": 20,
     "metadata": {},
     "output_type": "execute_result"
    }
   ],
   "source": [
    "df.head(2)"
   ]
  },
  {
   "cell_type": "code",
   "execution_count": 21,
   "metadata": {},
   "outputs": [
    {
     "data": {
      "text/html": [
       "<div>\n",
       "<style scoped>\n",
       "    .dataframe tbody tr th:only-of-type {\n",
       "        vertical-align: middle;\n",
       "    }\n",
       "\n",
       "    .dataframe tbody tr th {\n",
       "        vertical-align: top;\n",
       "    }\n",
       "\n",
       "    .dataframe thead th {\n",
       "        text-align: right;\n",
       "    }\n",
       "</style>\n",
       "<table border=\"1\" class=\"dataframe\">\n",
       "  <thead>\n",
       "    <tr style=\"text-align: right;\">\n",
       "      <th></th>\n",
       "      <th>Généralistes et compétences MEP</th>\n",
       "      <th>REGION INSEE</th>\n",
       "      <th>NOMBRE D'APE</th>\n",
       "      <th>HONORAIRES SANS DEPASSEMENT (Euros)</th>\n",
       "      <th>DEPASSEMENTS (Euros)</th>\n",
       "      <th>FRAIS DE DEPLACEMENTS (Euros)</th>\n",
       "      <th>TOTAL DES HONORAIRES (Euros)</th>\n",
       "      <th>HONORAIRES SANS DEPASSEMENT /APE (Euros)</th>\n",
       "      <th>DEPASSEMENTS /APE (Euros)</th>\n",
       "      <th>FRAIS DE DEPLACEMENTS /APE (Euros)</th>\n",
       "      <th>HONORAIRES /APE (Euros)</th>\n",
       "    </tr>\n",
       "  </thead>\n",
       "  <tbody>\n",
       "    <tr>\n",
       "      <th>0</th>\n",
       "      <td>01- Médecine générale</td>\n",
       "      <td>11- Ile-de-France</td>\n",
       "      <td>5697</td>\n",
       "      <td>9.09628e+08</td>\n",
       "      <td>4.41758e+07</td>\n",
       "      <td>436920</td>\n",
       "      <td>9.54241e+08</td>\n",
       "      <td>159668</td>\n",
       "      <td>7754.22</td>\n",
       "      <td>76.693</td>\n",
       "      <td>167499</td>\n",
       "    </tr>\n",
       "    <tr>\n",
       "      <th>1</th>\n",
       "      <td>01- Médecine générale</td>\n",
       "      <td>24- Centre-Val-de-Loire</td>\n",
       "      <td>1409</td>\n",
       "      <td>2.37436e+08</td>\n",
       "      <td>1.70022e+06</td>\n",
       "      <td>989544</td>\n",
       "      <td>2.40125e+08</td>\n",
       "      <td>168514</td>\n",
       "      <td>1206.68</td>\n",
       "      <td>702.303</td>\n",
       "      <td>170422</td>\n",
       "    </tr>\n",
       "  </tbody>\n",
       "</table>\n",
       "</div>"
      ],
      "text/plain": [
       "  Généralistes et compétences MEP             REGION INSEE  NOMBRE D'APE  \\\n",
       "0           01- Médecine générale        11- Ile-de-France          5697   \n",
       "1           01- Médecine générale  24- Centre-Val-de-Loire          1409   \n",
       "\n",
       "  HONORAIRES SANS DEPASSEMENT (Euros) DEPASSEMENTS (Euros)  \\\n",
       "0                         9.09628e+08          4.41758e+07   \n",
       "1                         2.37436e+08          1.70022e+06   \n",
       "\n",
       "  FRAIS DE DEPLACEMENTS (Euros) TOTAL DES HONORAIRES (Euros)  \\\n",
       "0                        436920                  9.54241e+08   \n",
       "1                        989544                  2.40125e+08   \n",
       "\n",
       "  HONORAIRES SANS DEPASSEMENT /APE (Euros) DEPASSEMENTS /APE (Euros)  \\\n",
       "0                                   159668                   7754.22   \n",
       "1                                   168514                   1206.68   \n",
       "\n",
       "  FRAIS DE DEPLACEMENTS /APE (Euros) HONORAIRES /APE (Euros)  \n",
       "0                             76.693                  167499  \n",
       "1                            702.303                  170422  "
      ]
     },
     "execution_count": 21,
     "metadata": {},
     "output_type": "execute_result"
    }
   ],
   "source": [
    "df1.head(2)"
   ]
  },
  {
   "cell_type": "code",
   "execution_count": 22,
   "metadata": {},
   "outputs": [],
   "source": [
    "df_fmep = df[:13]\n",
    "df_hon = df1[:13]"
   ]
  },
  {
   "cell_type": "code",
   "execution_count": 23,
   "metadata": {},
   "outputs": [
    {
     "data": {
      "text/html": [
       "<div>\n",
       "<style scoped>\n",
       "    .dataframe tbody tr th:only-of-type {\n",
       "        vertical-align: middle;\n",
       "    }\n",
       "\n",
       "    .dataframe tbody tr th {\n",
       "        vertical-align: top;\n",
       "    }\n",
       "\n",
       "    .dataframe thead th {\n",
       "        text-align: right;\n",
       "    }\n",
       "</style>\n",
       "<table border=\"1\" class=\"dataframe\">\n",
       "  <thead>\n",
       "    <tr style=\"text-align: right;\">\n",
       "      <th></th>\n",
       "      <th>Généralistes et compétences MEP</th>\n",
       "      <th>REGION INSEE</th>\n",
       "      <th>EFFECTIF</th>\n",
       "      <th>POPULATION FRANCAISE</th>\n",
       "      <th>DENSITE /100 000 hab.</th>\n",
       "      <th>Unnamed: 5</th>\n",
       "      <th>Unnamed: 6</th>\n",
       "    </tr>\n",
       "  </thead>\n",
       "  <tbody>\n",
       "    <tr>\n",
       "      <th>0</th>\n",
       "      <td>01- Médecine générale</td>\n",
       "      <td>11- Ile-de-France</td>\n",
       "      <td>7503</td>\n",
       "      <td>1.224610e+07</td>\n",
       "      <td>61.268489</td>\n",
       "      <td>NaN</td>\n",
       "      <td>0.000613</td>\n",
       "    </tr>\n",
       "    <tr>\n",
       "      <th>1</th>\n",
       "      <td>01- Médecine générale</td>\n",
       "      <td>24- Centre-Val-de-Loire</td>\n",
       "      <td>1741</td>\n",
       "      <td>2.582500e+06</td>\n",
       "      <td>67.415299</td>\n",
       "      <td>NaN</td>\n",
       "      <td>NaN</td>\n",
       "    </tr>\n",
       "  </tbody>\n",
       "</table>\n",
       "</div>"
      ],
      "text/plain": [
       "  Généralistes et compétences MEP             REGION INSEE  EFFECTIF  \\\n",
       "0           01- Médecine générale        11- Ile-de-France      7503   \n",
       "1           01- Médecine générale  24- Centre-Val-de-Loire      1741   \n",
       "\n",
       "   POPULATION FRANCAISE  DENSITE /100 000 hab.  Unnamed: 5  Unnamed: 6  \n",
       "0          1.224610e+07              61.268489         NaN    0.000613  \n",
       "1          2.582500e+06              67.415299         NaN         NaN  "
      ]
     },
     "execution_count": 23,
     "metadata": {},
     "output_type": "execute_result"
    }
   ],
   "source": [
    "df_fmep.head(2)"
   ]
  },
  {
   "cell_type": "code",
   "execution_count": 24,
   "metadata": {},
   "outputs": [
    {
     "data": {
      "text/html": [
       "<div>\n",
       "<style scoped>\n",
       "    .dataframe tbody tr th:only-of-type {\n",
       "        vertical-align: middle;\n",
       "    }\n",
       "\n",
       "    .dataframe tbody tr th {\n",
       "        vertical-align: top;\n",
       "    }\n",
       "\n",
       "    .dataframe thead th {\n",
       "        text-align: right;\n",
       "    }\n",
       "</style>\n",
       "<table border=\"1\" class=\"dataframe\">\n",
       "  <thead>\n",
       "    <tr style=\"text-align: right;\">\n",
       "      <th></th>\n",
       "      <th>Généralistes et compétences MEP</th>\n",
       "      <th>REGION INSEE</th>\n",
       "      <th>NOMBRE D'APE</th>\n",
       "      <th>HONORAIRES SANS DEPASSEMENT (Euros)</th>\n",
       "      <th>DEPASSEMENTS (Euros)</th>\n",
       "      <th>FRAIS DE DEPLACEMENTS (Euros)</th>\n",
       "      <th>TOTAL DES HONORAIRES (Euros)</th>\n",
       "      <th>HONORAIRES SANS DEPASSEMENT /APE (Euros)</th>\n",
       "      <th>DEPASSEMENTS /APE (Euros)</th>\n",
       "      <th>FRAIS DE DEPLACEMENTS /APE (Euros)</th>\n",
       "      <th>HONORAIRES /APE (Euros)</th>\n",
       "    </tr>\n",
       "  </thead>\n",
       "  <tbody>\n",
       "    <tr>\n",
       "      <th>0</th>\n",
       "      <td>01- Médecine générale</td>\n",
       "      <td>11- Ile-de-France</td>\n",
       "      <td>5697</td>\n",
       "      <td>9.09628e+08</td>\n",
       "      <td>4.41758e+07</td>\n",
       "      <td>436920</td>\n",
       "      <td>9.54241e+08</td>\n",
       "      <td>159668</td>\n",
       "      <td>7754.22</td>\n",
       "      <td>76.693</td>\n",
       "      <td>167499</td>\n",
       "    </tr>\n",
       "    <tr>\n",
       "      <th>1</th>\n",
       "      <td>01- Médecine générale</td>\n",
       "      <td>24- Centre-Val-de-Loire</td>\n",
       "      <td>1409</td>\n",
       "      <td>2.37436e+08</td>\n",
       "      <td>1.70022e+06</td>\n",
       "      <td>989544</td>\n",
       "      <td>2.40125e+08</td>\n",
       "      <td>168514</td>\n",
       "      <td>1206.68</td>\n",
       "      <td>702.303</td>\n",
       "      <td>170422</td>\n",
       "    </tr>\n",
       "  </tbody>\n",
       "</table>\n",
       "</div>"
      ],
      "text/plain": [
       "  Généralistes et compétences MEP             REGION INSEE  NOMBRE D'APE  \\\n",
       "0           01- Médecine générale        11- Ile-de-France          5697   \n",
       "1           01- Médecine générale  24- Centre-Val-de-Loire          1409   \n",
       "\n",
       "  HONORAIRES SANS DEPASSEMENT (Euros) DEPASSEMENTS (Euros)  \\\n",
       "0                         9.09628e+08          4.41758e+07   \n",
       "1                         2.37436e+08          1.70022e+06   \n",
       "\n",
       "  FRAIS DE DEPLACEMENTS (Euros) TOTAL DES HONORAIRES (Euros)  \\\n",
       "0                        436920                  9.54241e+08   \n",
       "1                        989544                  2.40125e+08   \n",
       "\n",
       "  HONORAIRES SANS DEPASSEMENT /APE (Euros) DEPASSEMENTS /APE (Euros)  \\\n",
       "0                                   159668                   7754.22   \n",
       "1                                   168514                   1206.68   \n",
       "\n",
       "  FRAIS DE DEPLACEMENTS /APE (Euros) HONORAIRES /APE (Euros)  \n",
       "0                             76.693                  167499  \n",
       "1                            702.303                  170422  "
      ]
     },
     "execution_count": 24,
     "metadata": {},
     "output_type": "execute_result"
    }
   ],
   "source": [
    "df_hon.head(2)"
   ]
  },
  {
   "cell_type": "code",
   "execution_count": 25,
   "metadata": {},
   "outputs": [
    {
     "data": {
      "text/plain": [
       "Index(['Généralistes et compétences MEP', 'REGION INSEE', 'EFFECTIF',\n",
       "       'POPULATION FRANCAISE', 'DENSITE /100 000 hab.', 'Unnamed: 5',\n",
       "       'Unnamed: 6'],\n",
       "      dtype='object')"
      ]
     },
     "execution_count": 25,
     "metadata": {},
     "output_type": "execute_result"
    }
   ],
   "source": [
    "df_fmep.columns"
   ]
  },
  {
   "cell_type": "code",
   "execution_count": 26,
   "metadata": {},
   "outputs": [
    {
     "data": {
      "text/plain": [
       "Index(['Généralistes et compétences MEP', 'REGION INSEE', 'NOMBRE D'APE',\n",
       "       'HONORAIRES SANS DEPASSEMENT (Euros)', 'DEPASSEMENTS (Euros)',\n",
       "       'FRAIS DE DEPLACEMENTS (Euros)', 'TOTAL DES HONORAIRES (Euros)',\n",
       "       'HONORAIRES SANS DEPASSEMENT /APE (Euros)', 'DEPASSEMENTS /APE (Euros)',\n",
       "       'FRAIS DE DEPLACEMENTS /APE (Euros)', 'HONORAIRES /APE (Euros)'],\n",
       "      dtype='object')"
      ]
     },
     "execution_count": 26,
     "metadata": {},
     "output_type": "execute_result"
    }
   ],
   "source": [
    "df_hon.columns"
   ]
  },
  {
   "cell_type": "code",
   "execution_count": 27,
   "metadata": {},
   "outputs": [],
   "source": [
    "del df_fmep['Unnamed: 5']\n",
    "del df_fmep['Unnamed: 6']"
   ]
  },
  {
   "cell_type": "code",
   "execution_count": 28,
   "metadata": {},
   "outputs": [
    {
     "data": {
      "text/plain": [
       "Index(['Généralistes et compétences MEP', 'REGION INSEE', 'EFFECTIF',\n",
       "       'POPULATION FRANCAISE', 'DENSITE /100 000 hab.'],\n",
       "      dtype='object')"
      ]
     },
     "execution_count": 28,
     "metadata": {},
     "output_type": "execute_result"
    }
   ],
   "source": [
    "df_fmep.columns"
   ]
  },
  {
   "cell_type": "code",
   "execution_count": 29,
   "metadata": {},
   "outputs": [],
   "source": [
    "df_merge = df_fmep.merge(df_hon, on='REGION INSEE')"
   ]
  },
  {
   "cell_type": "code",
   "execution_count": 30,
   "metadata": {},
   "outputs": [
    {
     "data": {
      "text/html": [
       "<div>\n",
       "<style scoped>\n",
       "    .dataframe tbody tr th:only-of-type {\n",
       "        vertical-align: middle;\n",
       "    }\n",
       "\n",
       "    .dataframe tbody tr th {\n",
       "        vertical-align: top;\n",
       "    }\n",
       "\n",
       "    .dataframe thead th {\n",
       "        text-align: right;\n",
       "    }\n",
       "</style>\n",
       "<table border=\"1\" class=\"dataframe\">\n",
       "  <thead>\n",
       "    <tr style=\"text-align: right;\">\n",
       "      <th></th>\n",
       "      <th>Généralistes et compétences MEP_x</th>\n",
       "      <th>REGION INSEE</th>\n",
       "      <th>EFFECTIF</th>\n",
       "      <th>POPULATION FRANCAISE</th>\n",
       "      <th>DENSITE /100 000 hab.</th>\n",
       "      <th>Généralistes et compétences MEP_y</th>\n",
       "      <th>NOMBRE D'APE</th>\n",
       "      <th>HONORAIRES SANS DEPASSEMENT (Euros)</th>\n",
       "      <th>DEPASSEMENTS (Euros)</th>\n",
       "      <th>FRAIS DE DEPLACEMENTS (Euros)</th>\n",
       "      <th>TOTAL DES HONORAIRES (Euros)</th>\n",
       "      <th>HONORAIRES SANS DEPASSEMENT /APE (Euros)</th>\n",
       "      <th>DEPASSEMENTS /APE (Euros)</th>\n",
       "      <th>FRAIS DE DEPLACEMENTS /APE (Euros)</th>\n",
       "      <th>HONORAIRES /APE (Euros)</th>\n",
       "    </tr>\n",
       "  </thead>\n",
       "  <tbody>\n",
       "    <tr>\n",
       "      <th>0</th>\n",
       "      <td>01- Médecine générale</td>\n",
       "      <td>11- Ile-de-France</td>\n",
       "      <td>7503</td>\n",
       "      <td>1.224610e+07</td>\n",
       "      <td>61.268489</td>\n",
       "      <td>01- Médecine générale</td>\n",
       "      <td>5697</td>\n",
       "      <td>9.09628e+08</td>\n",
       "      <td>4.41758e+07</td>\n",
       "      <td>436920</td>\n",
       "      <td>9.54241e+08</td>\n",
       "      <td>159668</td>\n",
       "      <td>7754.22</td>\n",
       "      <td>76.693</td>\n",
       "      <td>167499</td>\n",
       "    </tr>\n",
       "    <tr>\n",
       "      <th>1</th>\n",
       "      <td>01- Médecine générale</td>\n",
       "      <td>24- Centre-Val-de-Loire</td>\n",
       "      <td>1741</td>\n",
       "      <td>2.582500e+06</td>\n",
       "      <td>67.415299</td>\n",
       "      <td>01- Médecine générale</td>\n",
       "      <td>1409</td>\n",
       "      <td>2.37436e+08</td>\n",
       "      <td>1.70022e+06</td>\n",
       "      <td>989544</td>\n",
       "      <td>2.40125e+08</td>\n",
       "      <td>168514</td>\n",
       "      <td>1206.68</td>\n",
       "      <td>702.303</td>\n",
       "      <td>170422</td>\n",
       "    </tr>\n",
       "    <tr>\n",
       "      <th>2</th>\n",
       "      <td>01- Médecine générale</td>\n",
       "      <td>27- Bourgogne et Franche-Comté</td>\n",
       "      <td>2128</td>\n",
       "      <td>2.813200e+06</td>\n",
       "      <td>75.643400</td>\n",
       "      <td>01- Médecine générale</td>\n",
       "      <td>1781</td>\n",
       "      <td>2.82277e+08</td>\n",
       "      <td>1.01297e+06</td>\n",
       "      <td>1.84651e+06</td>\n",
       "      <td>2.85137e+08</td>\n",
       "      <td>158494</td>\n",
       "      <td>568.764</td>\n",
       "      <td>1036.78</td>\n",
       "      <td>160099</td>\n",
       "    </tr>\n",
       "  </tbody>\n",
       "</table>\n",
       "</div>"
      ],
      "text/plain": [
       "  Généralistes et compétences MEP_x                    REGION INSEE  EFFECTIF  \\\n",
       "0             01- Médecine générale               11- Ile-de-France      7503   \n",
       "1             01- Médecine générale         24- Centre-Val-de-Loire      1741   \n",
       "2             01- Médecine générale  27- Bourgogne et Franche-Comté      2128   \n",
       "\n",
       "   POPULATION FRANCAISE  DENSITE /100 000 hab.  \\\n",
       "0          1.224610e+07              61.268489   \n",
       "1          2.582500e+06              67.415299   \n",
       "2          2.813200e+06              75.643400   \n",
       "\n",
       "  Généralistes et compétences MEP_y  NOMBRE D'APE  \\\n",
       "0             01- Médecine générale          5697   \n",
       "1             01- Médecine générale          1409   \n",
       "2             01- Médecine générale          1781   \n",
       "\n",
       "  HONORAIRES SANS DEPASSEMENT (Euros) DEPASSEMENTS (Euros)  \\\n",
       "0                         9.09628e+08          4.41758e+07   \n",
       "1                         2.37436e+08          1.70022e+06   \n",
       "2                         2.82277e+08          1.01297e+06   \n",
       "\n",
       "  FRAIS DE DEPLACEMENTS (Euros) TOTAL DES HONORAIRES (Euros)  \\\n",
       "0                        436920                  9.54241e+08   \n",
       "1                        989544                  2.40125e+08   \n",
       "2                   1.84651e+06                  2.85137e+08   \n",
       "\n",
       "  HONORAIRES SANS DEPASSEMENT /APE (Euros) DEPASSEMENTS /APE (Euros)  \\\n",
       "0                                   159668                   7754.22   \n",
       "1                                   168514                   1206.68   \n",
       "2                                   158494                   568.764   \n",
       "\n",
       "  FRAIS DE DEPLACEMENTS /APE (Euros) HONORAIRES /APE (Euros)  \n",
       "0                             76.693                  167499  \n",
       "1                            702.303                  170422  \n",
       "2                            1036.78                  160099  "
      ]
     },
     "execution_count": 30,
     "metadata": {},
     "output_type": "execute_result"
    }
   ],
   "source": [
    "df_merge.head(3)"
   ]
  },
  {
   "cell_type": "code",
   "execution_count": 31,
   "metadata": {},
   "outputs": [],
   "source": [
    "df_merge = df_merge.rename(columns={'DEPASSEMENTS /APE (Euros)': 'dep'})"
   ]
  },
  {
   "cell_type": "code",
   "execution_count": 32,
   "metadata": {},
   "outputs": [
    {
     "data": {
      "text/html": [
       "<div>\n",
       "<style scoped>\n",
       "    .dataframe tbody tr th:only-of-type {\n",
       "        vertical-align: middle;\n",
       "    }\n",
       "\n",
       "    .dataframe tbody tr th {\n",
       "        vertical-align: top;\n",
       "    }\n",
       "\n",
       "    .dataframe thead th {\n",
       "        text-align: right;\n",
       "    }\n",
       "</style>\n",
       "<table border=\"1\" class=\"dataframe\">\n",
       "  <thead>\n",
       "    <tr style=\"text-align: right;\">\n",
       "      <th></th>\n",
       "      <th>Généralistes et compétences MEP_x</th>\n",
       "      <th>REGION INSEE</th>\n",
       "      <th>EFFECTIF</th>\n",
       "      <th>POPULATION FRANCAISE</th>\n",
       "      <th>DENSITE /100 000 hab.</th>\n",
       "      <th>Généralistes et compétences MEP_y</th>\n",
       "      <th>NOMBRE D'APE</th>\n",
       "      <th>HONORAIRES SANS DEPASSEMENT (Euros)</th>\n",
       "      <th>DEPASSEMENTS (Euros)</th>\n",
       "      <th>FRAIS DE DEPLACEMENTS (Euros)</th>\n",
       "      <th>TOTAL DES HONORAIRES (Euros)</th>\n",
       "      <th>HONORAIRES SANS DEPASSEMENT /APE (Euros)</th>\n",
       "      <th>dep</th>\n",
       "      <th>FRAIS DE DEPLACEMENTS /APE (Euros)</th>\n",
       "      <th>HONORAIRES /APE (Euros)</th>\n",
       "    </tr>\n",
       "  </thead>\n",
       "  <tbody>\n",
       "    <tr>\n",
       "      <th>0</th>\n",
       "      <td>01- Médecine générale</td>\n",
       "      <td>11- Ile-de-France</td>\n",
       "      <td>7503</td>\n",
       "      <td>1.224610e+07</td>\n",
       "      <td>61.268489</td>\n",
       "      <td>01- Médecine générale</td>\n",
       "      <td>5697</td>\n",
       "      <td>9.09628e+08</td>\n",
       "      <td>4.41758e+07</td>\n",
       "      <td>436920</td>\n",
       "      <td>9.54241e+08</td>\n",
       "      <td>159668</td>\n",
       "      <td>7754.22</td>\n",
       "      <td>76.693</td>\n",
       "      <td>167499</td>\n",
       "    </tr>\n",
       "    <tr>\n",
       "      <th>1</th>\n",
       "      <td>01- Médecine générale</td>\n",
       "      <td>24- Centre-Val-de-Loire</td>\n",
       "      <td>1741</td>\n",
       "      <td>2.582500e+06</td>\n",
       "      <td>67.415299</td>\n",
       "      <td>01- Médecine générale</td>\n",
       "      <td>1409</td>\n",
       "      <td>2.37436e+08</td>\n",
       "      <td>1.70022e+06</td>\n",
       "      <td>989544</td>\n",
       "      <td>2.40125e+08</td>\n",
       "      <td>168514</td>\n",
       "      <td>1206.68</td>\n",
       "      <td>702.303</td>\n",
       "      <td>170422</td>\n",
       "    </tr>\n",
       "    <tr>\n",
       "      <th>2</th>\n",
       "      <td>01- Médecine générale</td>\n",
       "      <td>27- Bourgogne et Franche-Comté</td>\n",
       "      <td>2128</td>\n",
       "      <td>2.813200e+06</td>\n",
       "      <td>75.643400</td>\n",
       "      <td>01- Médecine générale</td>\n",
       "      <td>1781</td>\n",
       "      <td>2.82277e+08</td>\n",
       "      <td>1.01297e+06</td>\n",
       "      <td>1.84651e+06</td>\n",
       "      <td>2.85137e+08</td>\n",
       "      <td>158494</td>\n",
       "      <td>568.764</td>\n",
       "      <td>1036.78</td>\n",
       "      <td>160099</td>\n",
       "    </tr>\n",
       "  </tbody>\n",
       "</table>\n",
       "</div>"
      ],
      "text/plain": [
       "  Généralistes et compétences MEP_x                    REGION INSEE  EFFECTIF  \\\n",
       "0             01- Médecine générale               11- Ile-de-France      7503   \n",
       "1             01- Médecine générale         24- Centre-Val-de-Loire      1741   \n",
       "2             01- Médecine générale  27- Bourgogne et Franche-Comté      2128   \n",
       "\n",
       "   POPULATION FRANCAISE  DENSITE /100 000 hab.  \\\n",
       "0          1.224610e+07              61.268489   \n",
       "1          2.582500e+06              67.415299   \n",
       "2          2.813200e+06              75.643400   \n",
       "\n",
       "  Généralistes et compétences MEP_y  NOMBRE D'APE  \\\n",
       "0             01- Médecine générale          5697   \n",
       "1             01- Médecine générale          1409   \n",
       "2             01- Médecine générale          1781   \n",
       "\n",
       "  HONORAIRES SANS DEPASSEMENT (Euros) DEPASSEMENTS (Euros)  \\\n",
       "0                         9.09628e+08          4.41758e+07   \n",
       "1                         2.37436e+08          1.70022e+06   \n",
       "2                         2.82277e+08          1.01297e+06   \n",
       "\n",
       "  FRAIS DE DEPLACEMENTS (Euros) TOTAL DES HONORAIRES (Euros)  \\\n",
       "0                        436920                  9.54241e+08   \n",
       "1                        989544                  2.40125e+08   \n",
       "2                   1.84651e+06                  2.85137e+08   \n",
       "\n",
       "  HONORAIRES SANS DEPASSEMENT /APE (Euros)      dep  \\\n",
       "0                                   159668  7754.22   \n",
       "1                                   168514  1206.68   \n",
       "2                                   158494  568.764   \n",
       "\n",
       "  FRAIS DE DEPLACEMENTS /APE (Euros) HONORAIRES /APE (Euros)  \n",
       "0                             76.693                  167499  \n",
       "1                            702.303                  170422  \n",
       "2                            1036.78                  160099  "
      ]
     },
     "execution_count": 32,
     "metadata": {},
     "output_type": "execute_result"
    }
   ],
   "source": [
    "df_merge.head(3)"
   ]
  },
  {
   "cell_type": "code",
   "execution_count": 33,
   "metadata": {},
   "outputs": [
    {
     "data": {
      "text/plain": [
       "Index(['Généralistes et compétences MEP_x', 'REGION INSEE', 'EFFECTIF',\n",
       "       'POPULATION FRANCAISE', 'DENSITE /100 000 hab.',\n",
       "       'Généralistes et compétences MEP_y', 'NOMBRE D'APE',\n",
       "       'HONORAIRES SANS DEPASSEMENT (Euros)', 'DEPASSEMENTS (Euros)',\n",
       "       'FRAIS DE DEPLACEMENTS (Euros)', 'TOTAL DES HONORAIRES (Euros)',\n",
       "       'HONORAIRES SANS DEPASSEMENT /APE (Euros)', 'dep',\n",
       "       'FRAIS DE DEPLACEMENTS /APE (Euros)', 'HONORAIRES /APE (Euros)'],\n",
       "      dtype='object')"
      ]
     },
     "execution_count": 33,
     "metadata": {},
     "output_type": "execute_result"
    }
   ],
   "source": [
    "df_merge.columns"
   ]
  },
  {
   "cell_type": "code",
   "execution_count": 41,
   "metadata": {},
   "outputs": [
    {
     "name": "stdout",
     "output_type": "stream",
     "text": [
      "Populating the interactive namespace from numpy and matplotlib\n"
     ]
    },
    {
     "data": {
      "text/plain": [
       "[Text(151.42187499999997, 0.5, 'Region'),\n",
       " Text(0.5, 52.5, \"Dépassements d'honoraires moyens par APE\"),\n",
       " Text(0.5, 1, \"Dépassement d'honoraires par APE en fonction de la densité régionnale pour les médecins généralistes en France métropolitaine\")]"
      ]
     },
     "execution_count": 41,
     "metadata": {},
     "output_type": "execute_result"
    },
    {
     "data": {
      "image/png": "[encoded data removed]",
      "text/plain": [
       "<Figure size 1440x648 with 2 Axes>"
      ]
     },
     "metadata": {},
     "output_type": "display_data"
    }
   ],
   "source": [
    "%pylab inline\n",
    "pylab.rcParams['figure.figsize'] = (20, 9)\n",
    "pd.set_option(\"display.max_columns\", 1000)\n",
    "pd.set_option(\"display.expand_frame_repr\", True)\n",
    "\n",
    "df_heatMap = df_merge.copy()\n",
    "df_heatMap = df_heatMap[['REGION INSEE', \"dep\", \"DENSITE /100 000 hab.\"]]\n",
    "df_heatMap = df_heatMap.groupby(\n",
    "    ['REGION INSEE', \"dep\", \"DENSITE /100 000 hab.\"]).size()\n",
    "df_heatMap = pd.DataFrame(df_heatMap)\n",
    "df_heatMap.reset_index(inplace=True)\n",
    "\n",
    "df_heatMap['dep'] = df_heatMap['dep'].round(decimals=2)\n",
    "\n",
    "df_heatMap = df_heatMap.pivot('REGION INSEE', \"dep\", \"DENSITE /100 000 hab.\")\n",
    "\n",
    "df_heatMap.fillna(0, inplace=True)\n",
    "sns.set(font_scale=1.5)\n",
    "ax = sns.heatmap(df_heatMap, vmin=50.0, vmax=110.5,\n",
    "                 cmap='Blues', xticklabels=True, yticklabels=True)\n",
    "ax.set(xlabel=\"Dépassements d'honoraires moyens par APE\", ylabel='Region',\n",
    "       title=\"Dépassement d'honoraires par APE en fonction de la densité régionnale pour les médecins généralistes en France métropolitaine\")"
   ]
  },
  {
   "cell_type": "markdown",
   "metadata": {},
   "source": [
    "**La carte représentée ci-dessus permet d'analyser le dépassement d'honoraires moyen pratiqué par les médecins généralistes en France métropolitaine en fonction de la densité de médecins généralistes/100 000 habitants par région en France métropolitaine.**"
   ]
  },
  {
   "cell_type": "code",
   "execution_count": null,
   "metadata": {},
   "outputs": [],
   "source": []
  },
  {
   "cell_type": "code",
   "execution_count": null,
   "metadata": {},
   "outputs": [],
   "source": []
  }
 ],
 "metadata": {
  "kernelspec": {
   "display_name": "Python 3",
   "language": "python",
   "name": "python3"
  },
  "language_info": {
   "codemirror_mode": {
    "name": "ipython",
    "version": 3
   },
   "file_extension": ".py",
   "mimetype": "text/x-python",
   "name": "python",
   "nbconvert_exporter": "python",
   "pygments_lexer": "ipython3",
   "version": "3.7.3"
  },
  "latex_envs": {
   "LaTeX_envs_menu_present": true,
   "autoclose": false,
   "autocomplete": true,
   "bibliofile": "biblio.bib",
   "cite_by": "apalike",
   "current_citInitial": 1,
   "eqLabelWithNumbers": true,
   "eqNumInitial": 1,
   "hotkeys": {
    "equation": "Ctrl-E",
    "itemize": "Ctrl-I"
   },
   "labels_anchors": false,
   "latex_user_defs": false,
   "report_style_numbering": false,
   "user_envs_cfg": false
  },
  "toc": {
   "base_numbering": 1,
   "nav_menu": {},
   "number_sections": true,
   "sideBar": true,
   "skip_h1_title": false,
   "title_cell": "Table of Contents",
   "title_sidebar": "Contents",
   "toc_cell": false,
   "toc_position": {},
   "toc_section_display": true,
   "toc_window_display": false
  }
 },
 "nbformat": 4,
 "nbformat_minor": 2
}
